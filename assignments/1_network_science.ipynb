{
 "cells": [
  {
   "cell_type": "markdown",
   "metadata": {},
   "source": [
    "# [NTDS'19] assignment 1: network science\n",
    "[ntds'19]: https://github.com/mdeff/ntds_2019\n",
    "\n",
    "[Eda Bayram](https://lts4.epfl.ch/bayram), [EPFL LTS4](https://lts4.epfl.ch) and\n",
    "[Nikolaos Karalias](https://people.epfl.ch/nikolaos.karalias), [EPFL LTS2](https://lts2.epfl.ch)."
   ]
  },
  {
   "cell_type": "markdown",
   "metadata": {},
   "source": [
    "## Students\n",
    "\n",
    "* Team: `Team 7`\n",
    "* Students: `Yeh, Chun-Hung` (for the indivudual submission) or `Guo, Jinhui; Hayakawa, Hiroki; Tung, Kuan; Yeh, Chun-Hung` (for the team submission)"
   ]
  },
  {
   "cell_type": "markdown",
   "metadata": {},
   "source": [
    "## Rules\n",
    "\n",
    "Grading:\n",
    "* The first deadline is for individual submissions. The second deadline is for the team submission.\n",
    "* All team members will receive the same grade based on the team solution submitted on the second deadline.\n",
    "* As a fallback, a team can ask for individual grading. In that case, solutions submitted on the first deadline are graded.\n",
    "* Collaboration between team members is encouraged. No collaboration between teams is allowed.\n",
    "\n",
    "Submission:\n",
    "* Textual answers shall be short. Typically one to two sentences.\n",
    "* Code has to be clean.\n",
    "* You cannot import any other library than we imported.\n",
    "  Note that Networkx is imported in the second section and cannot be used in the first.\n",
    "* When submitting, the notebook is executed and the results are stored. I.e., if you open the notebook again it should show numerical results and plots. We won't be able to execute your notebooks.\n",
    "* The notebook is re-executed from a blank state before submission. That is to be sure it is reproducible. You can click \"Kernel\" then \"Restart Kernel and Run All Cells\" in Jupyter."
   ]
  },
  {
   "cell_type": "markdown",
   "metadata": {},
   "source": [
    "## Objective\n",
    "\n",
    "The purpose of this milestone is to explore a given dataset, represent it by network by constructing different graphs. In the first section, you will analyze the network properties. In the second section, you will explore various network models and find out the network model fitting the ones you construct from the dataset."
   ]
  },
  {
   "cell_type": "markdown",
   "metadata": {},
   "source": [
    "## Cora Dataset\n",
    "\n",
    "The [Cora dataset](https://linqs.soe.ucsc.edu/node/236) consists of scientific publications classified into one of seven research fields. \n",
    "\n",
    "* **Citation graph:** the citation network can be constructed from the connections given in the `cora.cites` file.\n",
    "* **Feature graph:** each publication in the dataset is described by a 0/1-valued word vector indicating the absence/presence of the corresponding word from the dictionary and its research field, given in the `cora.content` file. The dictionary consists of 1433 unique words. A feature graph can be constructed using the Euclidean distance between the feature vector of the publications.\n",
    "\n",
    "The [`README`](data/cora/README) provides details about the content of [`cora.cites`](data/cora/cora.cites) and [`cora.content`](data/cora/cora.content)."
   ]
  },
  {
   "cell_type": "markdown",
   "metadata": {},
   "source": [
    "## Section 1: Network Properties"
   ]
  },
  {
   "cell_type": "code",
   "execution_count": 1,
   "metadata": {},
   "outputs": [],
   "source": [
    "import numpy as np\n",
    "import pandas as pd\n",
    "from matplotlib import pyplot as plt\n",
    "\n",
    "%matplotlib inline"
   ]
  },
  {
   "cell_type": "markdown",
   "metadata": {},
   "source": [
    "### Question 1: Construct a Citation Graph and a Feature Graph"
   ]
  },
  {
   "cell_type": "markdown",
   "metadata": {},
   "source": [
    "Read the `cora.content` file into a Pandas DataFrame by setting a header for the column names. Check the `README` file."
   ]
  },
  {
   "cell_type": "code",
   "execution_count": 2,
   "metadata": {},
   "outputs": [
    {
     "data": {
      "text/html": [
       "<div>\n",
       "<style scoped>\n",
       "    .dataframe tbody tr th:only-of-type {\n",
       "        vertical-align: middle;\n",
       "    }\n",
       "\n",
       "    .dataframe tbody tr th {\n",
       "        vertical-align: top;\n",
       "    }\n",
       "\n",
       "    .dataframe thead th {\n",
       "        text-align: right;\n",
       "    }\n",
       "</style>\n",
       "<table border=\"1\" class=\"dataframe\">\n",
       "  <thead>\n",
       "    <tr style=\"text-align: right;\">\n",
       "      <th></th>\n",
       "      <th>paper_id</th>\n",
       "      <th>word_attributes.1</th>\n",
       "      <th>word_attributes.2</th>\n",
       "      <th>word_attributes.3</th>\n",
       "      <th>word_attributes.4</th>\n",
       "      <th>word_attributes.5</th>\n",
       "      <th>word_attributes.6</th>\n",
       "      <th>word_attributes.7</th>\n",
       "      <th>word_attributes.8</th>\n",
       "      <th>word_attributes.9</th>\n",
       "      <th>...</th>\n",
       "      <th>word_attributes.1425</th>\n",
       "      <th>word_attributes.1426</th>\n",
       "      <th>word_attributes.1427</th>\n",
       "      <th>word_attributes.1428</th>\n",
       "      <th>word_attributes.1429</th>\n",
       "      <th>word_attributes.1430</th>\n",
       "      <th>word_attributes.1431</th>\n",
       "      <th>word_attributes.1432</th>\n",
       "      <th>word_attributes.1433</th>\n",
       "      <th>class_label</th>\n",
       "    </tr>\n",
       "  </thead>\n",
       "  <tbody>\n",
       "    <tr>\n",
       "      <td>0</td>\n",
       "      <td>31336</td>\n",
       "      <td>0</td>\n",
       "      <td>0</td>\n",
       "      <td>0</td>\n",
       "      <td>0</td>\n",
       "      <td>0</td>\n",
       "      <td>0</td>\n",
       "      <td>0</td>\n",
       "      <td>0</td>\n",
       "      <td>0</td>\n",
       "      <td>...</td>\n",
       "      <td>0</td>\n",
       "      <td>0</td>\n",
       "      <td>1</td>\n",
       "      <td>0</td>\n",
       "      <td>0</td>\n",
       "      <td>0</td>\n",
       "      <td>0</td>\n",
       "      <td>0</td>\n",
       "      <td>0</td>\n",
       "      <td>Neural_Networks</td>\n",
       "    </tr>\n",
       "    <tr>\n",
       "      <td>1</td>\n",
       "      <td>1061127</td>\n",
       "      <td>0</td>\n",
       "      <td>0</td>\n",
       "      <td>0</td>\n",
       "      <td>0</td>\n",
       "      <td>0</td>\n",
       "      <td>0</td>\n",
       "      <td>0</td>\n",
       "      <td>0</td>\n",
       "      <td>0</td>\n",
       "      <td>...</td>\n",
       "      <td>0</td>\n",
       "      <td>1</td>\n",
       "      <td>0</td>\n",
       "      <td>0</td>\n",
       "      <td>0</td>\n",
       "      <td>0</td>\n",
       "      <td>0</td>\n",
       "      <td>0</td>\n",
       "      <td>0</td>\n",
       "      <td>Rule_Learning</td>\n",
       "    </tr>\n",
       "    <tr>\n",
       "      <td>2</td>\n",
       "      <td>1106406</td>\n",
       "      <td>0</td>\n",
       "      <td>0</td>\n",
       "      <td>0</td>\n",
       "      <td>0</td>\n",
       "      <td>0</td>\n",
       "      <td>0</td>\n",
       "      <td>0</td>\n",
       "      <td>0</td>\n",
       "      <td>0</td>\n",
       "      <td>...</td>\n",
       "      <td>0</td>\n",
       "      <td>0</td>\n",
       "      <td>0</td>\n",
       "      <td>0</td>\n",
       "      <td>0</td>\n",
       "      <td>0</td>\n",
       "      <td>0</td>\n",
       "      <td>0</td>\n",
       "      <td>0</td>\n",
       "      <td>Reinforcement_Learning</td>\n",
       "    </tr>\n",
       "    <tr>\n",
       "      <td>3</td>\n",
       "      <td>13195</td>\n",
       "      <td>0</td>\n",
       "      <td>0</td>\n",
       "      <td>0</td>\n",
       "      <td>0</td>\n",
       "      <td>0</td>\n",
       "      <td>0</td>\n",
       "      <td>0</td>\n",
       "      <td>0</td>\n",
       "      <td>0</td>\n",
       "      <td>...</td>\n",
       "      <td>0</td>\n",
       "      <td>0</td>\n",
       "      <td>0</td>\n",
       "      <td>0</td>\n",
       "      <td>0</td>\n",
       "      <td>0</td>\n",
       "      <td>0</td>\n",
       "      <td>0</td>\n",
       "      <td>0</td>\n",
       "      <td>Reinforcement_Learning</td>\n",
       "    </tr>\n",
       "    <tr>\n",
       "      <td>4</td>\n",
       "      <td>37879</td>\n",
       "      <td>0</td>\n",
       "      <td>0</td>\n",
       "      <td>0</td>\n",
       "      <td>0</td>\n",
       "      <td>0</td>\n",
       "      <td>0</td>\n",
       "      <td>0</td>\n",
       "      <td>0</td>\n",
       "      <td>0</td>\n",
       "      <td>...</td>\n",
       "      <td>0</td>\n",
       "      <td>0</td>\n",
       "      <td>0</td>\n",
       "      <td>0</td>\n",
       "      <td>0</td>\n",
       "      <td>0</td>\n",
       "      <td>0</td>\n",
       "      <td>0</td>\n",
       "      <td>0</td>\n",
       "      <td>Probabilistic_Methods</td>\n",
       "    </tr>\n",
       "  </tbody>\n",
       "</table>\n",
       "<p>5 rows × 1435 columns</p>\n",
       "</div>"
      ],
      "text/plain": [
       "   paper_id  word_attributes.1  word_attributes.2  word_attributes.3  \\\n",
       "0     31336                  0                  0                  0   \n",
       "1   1061127                  0                  0                  0   \n",
       "2   1106406                  0                  0                  0   \n",
       "3     13195                  0                  0                  0   \n",
       "4     37879                  0                  0                  0   \n",
       "\n",
       "   word_attributes.4  word_attributes.5  word_attributes.6  word_attributes.7  \\\n",
       "0                  0                  0                  0                  0   \n",
       "1                  0                  0                  0                  0   \n",
       "2                  0                  0                  0                  0   \n",
       "3                  0                  0                  0                  0   \n",
       "4                  0                  0                  0                  0   \n",
       "\n",
       "   word_attributes.8  word_attributes.9  ...  word_attributes.1425  \\\n",
       "0                  0                  0  ...                     0   \n",
       "1                  0                  0  ...                     0   \n",
       "2                  0                  0  ...                     0   \n",
       "3                  0                  0  ...                     0   \n",
       "4                  0                  0  ...                     0   \n",
       "\n",
       "   word_attributes.1426  word_attributes.1427  word_attributes.1428  \\\n",
       "0                     0                     1                     0   \n",
       "1                     1                     0                     0   \n",
       "2                     0                     0                     0   \n",
       "3                     0                     0                     0   \n",
       "4                     0                     0                     0   \n",
       "\n",
       "   word_attributes.1429  word_attributes.1430  word_attributes.1431  \\\n",
       "0                     0                     0                     0   \n",
       "1                     0                     0                     0   \n",
       "2                     0                     0                     0   \n",
       "3                     0                     0                     0   \n",
       "4                     0                     0                     0   \n",
       "\n",
       "   word_attributes.1432  word_attributes.1433             class_label  \n",
       "0                     0                     0         Neural_Networks  \n",
       "1                     0                     0           Rule_Learning  \n",
       "2                     0                     0  Reinforcement_Learning  \n",
       "3                     0                     0  Reinforcement_Learning  \n",
       "4                     0                     0   Probabilistic_Methods  \n",
       "\n",
       "[5 rows x 1435 columns]"
      ]
     },
     "execution_count": 2,
     "metadata": {},
     "output_type": "execute_result"
    }
   ],
   "source": [
    "column_list = ['word_attributes.'+str(i+1) for i in range(1433)]\n",
    "column_list.insert(0, 'paper_id')\n",
    "column_list.append('class_label')\n",
    "pd_content = pd.read_csv('data/cora/cora.content', delimiter='\\t', names=column_list)\n",
    "pd_content.head()"
   ]
  },
  {
   "cell_type": "markdown",
   "metadata": {},
   "source": [
    "Print out the number of papers contained in each of the reasearch fields.\n",
    "\n",
    "**Hint:** You can use the `value_counts()` function."
   ]
  },
  {
   "cell_type": "code",
   "execution_count": 3,
   "metadata": {},
   "outputs": [
    {
     "data": {
      "text/plain": [
       "Neural_Networks           818\n",
       "Probabilistic_Methods     426\n",
       "Genetic_Algorithms        418\n",
       "Theory                    351\n",
       "Case_Based                298\n",
       "Reinforcement_Learning    217\n",
       "Rule_Learning             180\n",
       "Name: class_label, dtype: int64"
      ]
     },
     "execution_count": 3,
     "metadata": {},
     "output_type": "execute_result"
    }
   ],
   "source": [
    "num_papers = pd_content.class_label.value_counts()\n",
    "num_papers"
   ]
  },
  {
   "cell_type": "markdown",
   "metadata": {},
   "source": [
    "Select all papers from a field of your choice and store their feature vectors into a NumPy array.\n",
    "Check its shape."
   ]
  },
  {
   "cell_type": "code",
   "execution_count": 4,
   "metadata": {},
   "outputs": [
    {
     "data": {
      "text/plain": [
       "(180, 1433)"
      ]
     },
     "execution_count": 4,
     "metadata": {},
     "output_type": "execute_result"
    }
   ],
   "source": [
    "my_field = pd_content[pd_content.class_label == 'Rule_Learning']\n",
    "word_features = [i for i in my_field.columns if i.startswith('word')] \n",
    "features = my_field[word_features].values\n",
    "features.shape"
   ]
  },
  {
   "cell_type": "markdown",
   "metadata": {},
   "source": [
    "Let $D$ be the Euclidean distance matrix whose $(i,j)$ entry corresponds to the Euclidean distance between feature vectors $i$ and $j$.\n",
    "Using the feature vectors of the papers from the field which you have selected, construct $D$ as a Numpy array. "
   ]
  },
  {
   "cell_type": "code",
   "execution_count": 5,
   "metadata": {},
   "outputs": [
    {
     "data": {
      "text/plain": [
       "(180, 180)"
      ]
     },
     "execution_count": 5,
     "metadata": {},
     "output_type": "execute_result"
    }
   ],
   "source": [
    "distance = np.zeros((features.shape[0], features.shape[0]))\n",
    "for i in range(features.shape[0]): \n",
    "    for j in range(features.shape[0]):\n",
    "        distance[i, j] = np.linalg.norm(features[i] - features[j])\n",
    "distance.shape"
   ]
  },
  {
   "cell_type": "markdown",
   "metadata": {},
   "source": [
    "Check the mean pairwise distance $\\mathbb{E}[D]$."
   ]
  },
  {
   "cell_type": "code",
   "execution_count": 6,
   "metadata": {},
   "outputs": [
    {
     "data": {
      "text/plain": [
       "5.822492039380866"
      ]
     },
     "execution_count": 6,
     "metadata": {},
     "output_type": "execute_result"
    }
   ],
   "source": [
    "mean_distance = distance.mean()\n",
    "mean_distance"
   ]
  },
  {
   "cell_type": "markdown",
   "metadata": {},
   "source": [
    "Plot an histogram of the euclidean distances."
   ]
  },
  {
   "cell_type": "code",
   "execution_count": 7,
   "metadata": {},
   "outputs": [
    {
     "data": {
      "image/png": "[encoded data removed]",
      "text/plain": [
       "<Figure size 576x288 with 1 Axes>"
      ]
     },
     "metadata": {
      "needs_background": "light"
     },
     "output_type": "display_data"
    }
   ],
   "source": [
    "plt.figure(1, figsize=(8, 4))\n",
    "plt.title(\"Histogram of Euclidean distances between papers\")\n",
    "plt.hist(distance.flatten());"
   ]
  },
  {
   "cell_type": "markdown",
   "metadata": {},
   "source": [
    "Now create an adjacency matrix for the papers by thresholding the Euclidean distance matrix.\n",
    "The resulting (unweighted) adjacency matrix should have entries\n",
    "$$ A_{ij} = \\begin{cases} 1, \\; \\text{if} \\; d(i,j)< \\mathbb{E}[D], \\; i \\neq j, \\\\ 0, \\; \\text{otherwise.} \\end{cases} $$\n",
    "\n",
    "First, let us choose the mean distance as the threshold."
   ]
  },
  {
   "cell_type": "code",
   "execution_count": 8,
   "metadata": {},
   "outputs": [],
   "source": [
    "threshold = mean_distance\n",
    "A_feature = np.where(distance < threshold, 1, 0)\n",
    "np.fill_diagonal(A_feature, 0)"
   ]
  },
  {
   "cell_type": "markdown",
   "metadata": {},
   "source": [
    "Now read the `cora.cites` file and construct the citation graph by converting the given citation connections into an adjacency matrix."
   ]
  },
  {
   "cell_type": "code",
   "execution_count": 9,
   "metadata": {},
   "outputs": [
    {
     "data": {
      "text/html": [
       "<div>\n",
       "<style scoped>\n",
       "    .dataframe tbody tr th:only-of-type {\n",
       "        vertical-align: middle;\n",
       "    }\n",
       "\n",
       "    .dataframe tbody tr th {\n",
       "        vertical-align: top;\n",
       "    }\n",
       "\n",
       "    .dataframe thead th {\n",
       "        text-align: right;\n",
       "    }\n",
       "</style>\n",
       "<table border=\"1\" class=\"dataframe\">\n",
       "  <thead>\n",
       "    <tr style=\"text-align: right;\">\n",
       "      <th></th>\n",
       "      <th>node_idx</th>\n",
       "    </tr>\n",
       "    <tr>\n",
       "      <th>paper_id</th>\n",
       "      <th></th>\n",
       "    </tr>\n",
       "  </thead>\n",
       "  <tbody>\n",
       "    <tr>\n",
       "      <td>31336</td>\n",
       "      <td>0</td>\n",
       "    </tr>\n",
       "    <tr>\n",
       "      <td>1061127</td>\n",
       "      <td>1</td>\n",
       "    </tr>\n",
       "    <tr>\n",
       "      <td>1106406</td>\n",
       "      <td>2</td>\n",
       "    </tr>\n",
       "    <tr>\n",
       "      <td>13195</td>\n",
       "      <td>3</td>\n",
       "    </tr>\n",
       "    <tr>\n",
       "      <td>37879</td>\n",
       "      <td>4</td>\n",
       "    </tr>\n",
       "  </tbody>\n",
       "</table>\n",
       "</div>"
      ],
      "text/plain": [
       "          node_idx\n",
       "paper_id          \n",
       "31336            0\n",
       "1061127          1\n",
       "1106406          2\n",
       "13195            3\n",
       "37879            4"
      ]
     },
     "execution_count": 9,
     "metadata": {},
     "output_type": "execute_result"
    }
   ],
   "source": [
    "# Remap cited id and citing id to small value\n",
    "cora_cites = np.genfromtxt('data/cora/cora.cites', delimiter='\\t')\n",
    "df_cora = pd.DataFrame({'cited_paper_id': cora_cites[:, 0], 'paper_id': cora_cites[:, 1]}).astype(int)\n",
    "pd_content_2 = pd_content.copy()\n",
    "pd_content_2.reset_index(level=0, inplace=True)\n",
    "pd_content_2 = pd_content_2.rename(columns={'index':'node_idx'})\n",
    "paperid2idx = pd_content_2[['node_idx', 'paper_id']]\n",
    "paperid2idx = paperid2idx.set_index('paper_id')\n",
    "paperid2idx.head()"
   ]
  },
  {
   "cell_type": "code",
   "execution_count": 10,
   "metadata": {},
   "outputs": [],
   "source": [
    "# Add a new column, matching the paper_id with the node_idx\n",
    "df_cora = df_cora.join(paperid2idx, on='paper_id')"
   ]
  },
  {
   "cell_type": "code",
   "execution_count": 11,
   "metadata": {},
   "outputs": [],
   "source": [
    "# Do the same with the cited_paper_uid\n",
    "df_cora = df_cora.join(paperid2idx, on='cited_paper_id', rsuffix='_cited')"
   ]
  },
  {
   "cell_type": "code",
   "execution_count": 12,
   "metadata": {},
   "outputs": [
    {
     "data": {
      "text/html": [
       "<div>\n",
       "<style scoped>\n",
       "    .dataframe tbody tr th:only-of-type {\n",
       "        vertical-align: middle;\n",
       "    }\n",
       "\n",
       "    .dataframe tbody tr th {\n",
       "        vertical-align: top;\n",
       "    }\n",
       "\n",
       "    .dataframe thead th {\n",
       "        text-align: right;\n",
       "    }\n",
       "</style>\n",
       "<table border=\"1\" class=\"dataframe\">\n",
       "  <thead>\n",
       "    <tr style=\"text-align: right;\">\n",
       "      <th></th>\n",
       "      <th>node_idx</th>\n",
       "      <th>node_idx_cited</th>\n",
       "    </tr>\n",
       "  </thead>\n",
       "  <tbody>\n",
       "    <tr>\n",
       "      <td>0</td>\n",
       "      <td>402</td>\n",
       "      <td>163</td>\n",
       "    </tr>\n",
       "    <tr>\n",
       "      <td>1</td>\n",
       "      <td>659</td>\n",
       "      <td>163</td>\n",
       "    </tr>\n",
       "    <tr>\n",
       "      <td>2</td>\n",
       "      <td>1696</td>\n",
       "      <td>163</td>\n",
       "    </tr>\n",
       "    <tr>\n",
       "      <td>3</td>\n",
       "      <td>2295</td>\n",
       "      <td>163</td>\n",
       "    </tr>\n",
       "    <tr>\n",
       "      <td>4</td>\n",
       "      <td>1274</td>\n",
       "      <td>163</td>\n",
       "    </tr>\n",
       "  </tbody>\n",
       "</table>\n",
       "</div>"
      ],
      "text/plain": [
       "   node_idx  node_idx_cited\n",
       "0       402             163\n",
       "1       659             163\n",
       "2      1696             163\n",
       "3      2295             163\n",
       "4      1274             163"
      ]
     },
     "execution_count": 12,
     "metadata": {},
     "output_type": "execute_result"
    }
   ],
   "source": [
    "# Drop the paper_id and cited_paper_id\n",
    "df_cora_renumbered = df_cora.drop(columns=['paper_id','cited_paper_id'])\n",
    "df_cora_renumbered.head()"
   ]
  },
  {
   "cell_type": "code",
   "execution_count": 13,
   "metadata": {},
   "outputs": [
    {
     "data": {
      "text/plain": [
       "(2708, 2708)"
      ]
     },
     "execution_count": 13,
     "metadata": {},
     "output_type": "execute_result"
    }
   ],
   "source": [
    "num_papers = len(pd_content)\n",
    "A_citation = np.zeros((num_papers, num_papers), dtype=int)\n",
    "\n",
    "for idx, row in df_cora.iterrows():\n",
    "    if np.isnan(row.node_idx_cited):\n",
    "        continue\n",
    "    i, j = int(row.node_idx), int(row.node_idx_cited)\n",
    "    A_citation[i, j] = 1  # weight\n",
    "    A_citation[j, i] = 1  # weight to obtain an undirected network\n",
    "    \n",
    "A_citation.shape"
   ]
  },
  {
   "cell_type": "code",
   "execution_count": 14,
   "metadata": {},
   "outputs": [
    {
     "data": {
      "text/plain": [
       "0"
      ]
     },
     "execution_count": 14,
     "metadata": {},
     "output_type": "execute_result"
    }
   ],
   "source": [
    "np.sum(np.where(A_citation < 0, 1, 0))"
   ]
  },
  {
   "cell_type": "markdown",
   "metadata": {},
   "source": [
    "Get the adjacency matrix of the citation graph for the field that you chose.\n",
    "You have to appropriately reduce the adjacency matrix of the citation graph."
   ]
  },
  {
   "cell_type": "code",
   "execution_count": 15,
   "metadata": {},
   "outputs": [],
   "source": [
    "my_field_2 = my_field.copy().reset_index()\n",
    "my_field_2.reset_index(level=0, inplace=True)\n",
    "df_cora_2 = pd.DataFrame({'cited_paper_id': cora_cites[:, 0], 'paper_id': cora_cites[:, 1]}).astype(int)\n",
    "my_field_2 = my_field_2.rename(columns={'level_0':'node_idx'})\n",
    "\n",
    "paperid2idx = my_field_2[['node_idx', 'paper_id']]\n",
    "paperid2idx = paperid2idx.set_index('paper_id')\n",
    "\n",
    "df_cora_2 = df_cora_2.join(paperid2idx, on='paper_id')\n",
    "df_cora_2 = df_cora_2.join(paperid2idx, on='cited_paper_id', rsuffix='_cited').dropna()\n",
    "\n",
    "df_cora_renumbered_2 = df_cora_2.drop(columns=['paper_id','cited_paper_id'])\n",
    "\n",
    "num_papers = len(my_field)\n",
    "A_citation = np.zeros((num_papers, num_papers), dtype=int)\n",
    "\n",
    "for idx, row in df_cora_2.iterrows():\n",
    "    if np.isnan(row.node_idx_cited):\n",
    "        continue\n",
    "    i, j = int(row.node_idx), int(row.node_idx_cited)\n",
    "    A_citation[i, j] = 1  # weight\n",
    "    A_citation[j, i] = 1  # weight to obtain an undirected network"
   ]
  },
  {
   "cell_type": "code",
   "execution_count": 16,
   "metadata": {},
   "outputs": [
    {
     "data": {
      "text/plain": [
       "True"
      ]
     },
     "execution_count": 16,
     "metadata": {},
     "output_type": "execute_result"
    }
   ],
   "source": [
    "(A_citation.T == A_citation).all()"
   ]
  },
  {
   "cell_type": "markdown",
   "metadata": {},
   "source": [
    "Check if your adjacency matrix is symmetric. Symmetrize your final adjacency matrix if it's not already symmetric."
   ]
  },
  {
   "cell_type": "code",
   "execution_count": 17,
   "metadata": {},
   "outputs": [
    {
     "data": {
      "text/plain": [
       "0"
      ]
     },
     "execution_count": 17,
     "metadata": {},
     "output_type": "execute_result"
    }
   ],
   "source": [
    "np.count_nonzero(A_citation - A_citation.transpose())"
   ]
  },
  {
   "cell_type": "markdown",
   "metadata": {},
   "source": [
    "Check the shape of your adjacency matrix again."
   ]
  },
  {
   "cell_type": "code",
   "execution_count": 18,
   "metadata": {},
   "outputs": [
    {
     "data": {
      "text/plain": [
       "(180, 180)"
      ]
     },
     "execution_count": 18,
     "metadata": {},
     "output_type": "execute_result"
    }
   ],
   "source": [
    "A_citation.shape"
   ]
  },
  {
   "cell_type": "markdown",
   "metadata": {},
   "source": [
    "### Question 2: Degree Distribution and Moments"
   ]
  },
  {
   "cell_type": "markdown",
   "metadata": {},
   "source": [
    "What is the total number of edges in each graph?"
   ]
  },
  {
   "cell_type": "code",
   "execution_count": 19,
   "metadata": {},
   "outputs": [
    {
     "name": "stdout",
     "output_type": "stream",
     "text": [
      "Number of edges in the feature graph: 5829\n",
      "Number of edges in the citation graph: 253\n"
     ]
    }
   ],
   "source": [
    "num_edges_feature = int(np.count_nonzero(A_feature) / 2)\n",
    "num_edges_citation = int(np.count_nonzero(A_citation) / 2)\n",
    "print(f\"Number of edges in the feature graph: {num_edges_feature}\")\n",
    "print(f\"Number of edges in the citation graph: {num_edges_citation}\")"
   ]
  },
  {
   "cell_type": "markdown",
   "metadata": {},
   "source": [
    "Plot the degree distribution histogram for each of the graphs."
   ]
  },
  {
   "cell_type": "code",
   "execution_count": 20,
   "metadata": {},
   "outputs": [
    {
     "data": {
      "image/png": "[encoded data removed]",
      "text/plain": [
       "<Figure size 1152x288 with 2 Axes>"
      ]
     },
     "metadata": {
      "needs_background": "light"
     },
     "output_type": "display_data"
    }
   ],
   "source": [
    "degrees_citation = np.sum(A_citation, axis = 1)\n",
    "degrees_feature = np.sum(A_feature, axis = 1)\n",
    "deg_hist_normalization = np.ones(degrees_citation.shape[0]) / degrees_citation.shape[0]\n",
    "\n",
    "fig, axes = plt.subplots(1, 2, figsize=(16, 4))\n",
    "axes[0].set_title('Citation graph degree distribution')\n",
    "axes[0].hist(degrees_citation, weights=deg_hist_normalization);\n",
    "axes[1].set_title('Feature graph degree distribution')\n",
    "axes[1].hist(degrees_feature, weights=deg_hist_normalization);"
   ]
  },
  {
   "cell_type": "markdown",
   "metadata": {},
   "source": [
    "Calculate the first and second moments of the degree distribution of each graph."
   ]
  },
  {
   "cell_type": "code",
   "execution_count": 21,
   "metadata": {},
   "outputs": [
    {
     "name": "stdout",
     "output_type": "stream",
     "text": [
      "1st moment of citation graph: 2.811111111111111\n",
      "2nd moment of citation graph: 15.233333333333333\n",
      "1st moment of feature graph: 64.76666666666667\n",
      "2nd moment of feature graph: 6183.166666666667\n"
     ]
    }
   ],
   "source": [
    "cit_moment_1 = np.sum(np.sum(A_citation, axis = 1)) / len(A_citation)\n",
    "cit_moment_2 = np.sum(np.square(np.sum(A_citation, axis = 1))) / len(A_citation)\n",
    "\n",
    "feat_moment_1 = np.sum(np.sum(A_feature, axis = 1)) / len(A_feature)\n",
    "feat_moment_2 = np.sum(np.square(np.sum(A_feature, axis = 1))) / len(A_feature)\n",
    "\n",
    "print(f\"1st moment of citation graph: {cit_moment_1}\")\n",
    "print(f\"2nd moment of citation graph: {cit_moment_2}\")\n",
    "print(f\"1st moment of feature graph: {feat_moment_1}\")\n",
    "print(f\"2nd moment of feature graph: {feat_moment_2}\")"
   ]
  },
  {
   "cell_type": "markdown",
   "metadata": {},
   "source": [
    "What information do the moments provide you about the graphs?\n",
    "Explain the differences in moments between graphs by comparing their degree distributions."
   ]
  },
  {
   "cell_type": "markdown",
   "metadata": {},
   "source": [
    "**Your answer here: \n",
    "Regarding 1st moment, we can see that 1st moment of the feature graph is way larger than the one of the citation graph. That is to say, the average degree of feature graph is much larger than the average degree of citation graph. From both of the distribution plots, it is easy to check that mean of the citation graph is smaller than the mean of feature graph. As for the 2nd moment, 2nd moment of feature graph is also extremely larger than 2nd moment of citation graph. From the distribution plots as well, the variance of feature graph is larger than the variance of citation graph since its distribution is widely spread but shrinked.**"
   ]
  },
  {
   "cell_type": "markdown",
   "metadata": {},
   "source": [
    "Select the 20 largest hubs for each of the graphs and remove them. Observe the sparsity pattern of the adjacency matrices of the citation and feature graphs before and after such a reduction."
   ]
  },
  {
   "cell_type": "code",
   "execution_count": 22,
   "metadata": {},
   "outputs": [
    {
     "data": {
      "image/png": "[encoded data removed]",
      "text/plain": [
       "<Figure size 1152x1152 with 4 Axes>"
      ]
     },
     "metadata": {
      "needs_background": "light"
     },
     "output_type": "display_data"
    }
   ],
   "source": [
    "top_20_indx_feature = np.argsort(np.sum(A_feature, axis = 1))[-20:]\n",
    "top_20_indx_citation = np.argsort(np.sum(A_citation, axis = 1))[-20:]\n",
    "\n",
    "reduced_A_feature = np.delete(np.delete(A_feature, top_20_indx_feature, 0), top_20_indx_feature, 1)\n",
    "reduced_A_citation = np.delete(np.delete(A_citation, top_20_indx_citation, 0), top_20_indx_citation, 1)\n",
    "\n",
    "fig, axes = plt.subplots(2, 2, figsize=(16, 16))\n",
    "axes[0, 0].set_title('Feature graph: adjacency matrix sparsity pattern')\n",
    "axes[0, 0].spy(A_feature);\n",
    "axes[0, 1].set_title('Feature graph without top 20 hubs: adjacency matrix sparsity pattern')\n",
    "axes[0, 1].spy(reduced_A_feature);\n",
    "axes[1, 0].set_title('Citation graph: adjacency matrix sparsity pattern')\n",
    "axes[1, 0].spy(A_citation);\n",
    "axes[1, 1].set_title('Citation graph without top 20 hubs: adjacency matrix sparsity pattern')\n",
    "axes[1, 1].spy(reduced_A_citation);"
   ]
  },
  {
   "cell_type": "markdown",
   "metadata": {},
   "source": [
    "Plot the new degree distribution histograms."
   ]
  },
  {
   "cell_type": "code",
   "execution_count": 23,
   "metadata": {},
   "outputs": [
    {
     "data": {
      "image/png": "[encoded data removed]",
      "text/plain": [
       "<Figure size 1152x288 with 2 Axes>"
      ]
     },
     "metadata": {
      "needs_background": "light"
     },
     "output_type": "display_data"
    }
   ],
   "source": [
    "reduced_degrees_feat = np.sum(reduced_A_feature, axis = 1)\n",
    "reduced_degrees_cit = np.sum(reduced_A_citation, axis = 1)\n",
    "\n",
    "deg_hist_normalization = np.ones(reduced_degrees_feat.shape[0])/reduced_degrees_feat.shape[0]\n",
    "\n",
    "fig, axes = plt.subplots(1, 2, figsize=(16, 4))\n",
    "axes[0].set_title('Citation graph degree distribution')\n",
    "axes[0].hist(reduced_degrees_cit, weights=deg_hist_normalization);\n",
    "axes[1].set_title('Feature graph degree distribution')\n",
    "axes[1].hist(reduced_degrees_feat, weights=deg_hist_normalization);"
   ]
  },
  {
   "cell_type": "markdown",
   "metadata": {},
   "source": [
    "Compute the first and second moments for the new graphs."
   ]
  },
  {
   "cell_type": "code",
   "execution_count": 24,
   "metadata": {},
   "outputs": [
    {
     "name": "stdout",
     "output_type": "stream",
     "text": [
      "Citation graph first moment: 1.4\n",
      "Citation graph second moment: 2.9125\n",
      "Feature graph first moment:  34.1875\n",
      "Feature graph second moment:  1870.2125\n"
     ]
    }
   ],
   "source": [
    "reduced_cit_moment_1 = np.sum(np.sum(reduced_A_citation, axis = 1)) / len(reduced_A_citation)\n",
    "reduced_cit_moment_2 = np.sum(np.square(np.sum(reduced_A_citation, axis = 1))) / len(reduced_A_citation)\n",
    "\n",
    "reduced_feat_moment_1 = np.sum(np.sum(reduced_A_feature, axis = 1)) / len(reduced_A_feature)\n",
    "reduced_feat_moment_2 = np.sum(np.square(np.sum(reduced_A_feature, axis = 1))) / len(reduced_A_feature)\n",
    "\n",
    "\n",
    "print(\"Citation graph first moment:\", reduced_cit_moment_1)\n",
    "print(\"Citation graph second moment:\", reduced_cit_moment_2)\n",
    "print(\"Feature graph first moment: \", reduced_feat_moment_1)\n",
    "print(\"Feature graph second moment: \", reduced_feat_moment_2)"
   ]
  },
  {
   "cell_type": "markdown",
   "metadata": {},
   "source": [
    "Print the number of edges in the reduced graphs."
   ]
  },
  {
   "cell_type": "code",
   "execution_count": 25,
   "metadata": {},
   "outputs": [
    {
     "name": "stdout",
     "output_type": "stream",
     "text": [
      "Number of edges in the feature graph: 2735\n",
      "Number of edges in the citation graph: 112\n"
     ]
    }
   ],
   "source": [
    "num_edges_feature = int(np.count_nonzero(reduced_A_feature) / 2)\n",
    "num_edges_citation = int(np.count_nonzero(reduced_A_citation) / 2)\n",
    "print(f\"Number of edges in the feature graph: {num_edges_feature}\")\n",
    "print(f\"Number of edges in the citation graph: {num_edges_citation}\")"
   ]
  },
  {
   "cell_type": "markdown",
   "metadata": {},
   "source": [
    "Is the effect of removing the hubs the same for both networks? Look at the percentage changes for each moment. Which of the moments is affected the most and in which graph? Explain why.  \n",
    "\n",
    "**Hint:** Examine the degree distributions."
   ]
  },
  {
   "cell_type": "markdown",
   "metadata": {},
   "source": [
    "**Your answer here: No, removing the hubs leads to different results for both networks. Comparing the moments with and without hubs, we can see that second moment of citation graph is affected the most. Since rest of nodes are mostly linked to few nodes, taking away the hub from sparse citation graph results in most nodes only having low degree. This makes the variance of citation graph smaller after removing the hub.**"
   ]
  },
  {
   "cell_type": "markdown",
   "metadata": {},
   "source": [
    "### Question 3: Pruning, sparsity, paths"
   ]
  },
  {
   "cell_type": "markdown",
   "metadata": {},
   "source": [
    "By adjusting the threshold of the euclidean distance matrix, prune the feature graph so that its number of edges is roughly close (within a hundred edges) to the number of edges in the citation graph."
   ]
  },
  {
   "cell_type": "code",
   "execution_count": 26,
   "metadata": {},
   "outputs": [
    {
     "name": "stdout",
     "output_type": "stream",
     "text": [
      "Number of edges in the feature graph: 2735\n",
      "Number of edges in the feature graph after pruning: 114\n",
      "Number of edges in the citation graph: 112\n"
     ]
    }
   ],
   "source": [
    "threshold = 2.78\n",
    "\n",
    "A_feature_copy = distance.copy()\n",
    "A_feature_pruned = np.where(A_feature_copy < threshold, 1, 0)\n",
    "num_edges_feature_pruned = int(np.count_nonzero(A_feature_pruned) / 2)\n",
    "np.fill_diagonal(A_feature_pruned, 0)\n",
    "\n",
    "print(f\"Number of edges in the feature graph: {num_edges_feature}\")\n",
    "print(f\"Number of edges in the feature graph after pruning: {num_edges_feature_pruned}\")\n",
    "print(f\"Number of edges in the citation graph: {num_edges_citation}\")"
   ]
  },
  {
   "cell_type": "markdown",
   "metadata": {},
   "source": [
    "Check your results by comparing the sparsity patterns and total number of edges between the graphs."
   ]
  },
  {
   "cell_type": "code",
   "execution_count": 27,
   "metadata": {},
   "outputs": [
    {
     "data": {
      "image/png": "[encoded data removed]",
      "text/plain": [
       "<Figure size 864x432 with 2 Axes>"
      ]
     },
     "metadata": {
      "needs_background": "light"
     },
     "output_type": "display_data"
    }
   ],
   "source": [
    "fig, axes = plt.subplots(1, 2, figsize=(12, 6))\n",
    "axes[0].set_title('Citation graph sparsity')\n",
    "axes[0].spy(A_citation);\n",
    "axes[1].set_title('Feature graph sparsity')\n",
    "axes[1].spy(A_feature_pruned);"
   ]
  },
  {
   "cell_type": "markdown",
   "metadata": {},
   "source": [
    "Let $C_{k}(i,j)$ denote the number of paths of length $k$ from node $i$ to node $j$. \n",
    "\n",
    "We define the path matrix $P$, with entries\n",
    "$ P_{ij} = \\displaystyle\\sum_{k=0}^{N}C_{k}(i,j). $"
   ]
  },
  {
   "cell_type": "markdown",
   "metadata": {},
   "source": [
    "Calculate the path matrices for both the citation and the unpruned feature graphs for $N =10$.  \n",
    "\n",
    "**Hint:** Use [powers of the adjacency matrix](https://en.wikipedia.org/wiki/Adjacency_matrix#Matrix_powers)."
   ]
  },
  {
   "cell_type": "code",
   "execution_count": 28,
   "metadata": {},
   "outputs": [
    {
     "data": {
      "text/plain": [
       "array([[1.066863e+06, 1.637230e+05, 0.000000e+00, ..., 0.000000e+00,\n",
       "        1.394820e+05, 0.000000e+00],\n",
       "       [1.637230e+05, 4.303300e+04, 0.000000e+00, ..., 0.000000e+00,\n",
       "        2.694700e+04, 0.000000e+00],\n",
       "       [0.000000e+00, 0.000000e+00, 6.662700e+04, ..., 0.000000e+00,\n",
       "        0.000000e+00, 0.000000e+00],\n",
       "       ...,\n",
       "       [0.000000e+00, 0.000000e+00, 0.000000e+00, ..., 1.000000e+00,\n",
       "        0.000000e+00, 0.000000e+00],\n",
       "       [1.394820e+05, 2.694700e+04, 0.000000e+00, ..., 0.000000e+00,\n",
       "        4.965600e+04, 0.000000e+00],\n",
       "       [0.000000e+00, 0.000000e+00, 0.000000e+00, ..., 0.000000e+00,\n",
       "        0.000000e+00, 6.535000e+03]])"
      ]
     },
     "execution_count": 28,
     "metadata": {},
     "output_type": "execute_result"
    }
   ],
   "source": [
    "path_matrix_citation = np.zeros(A_citation.shape)\n",
    "path_matrix_feature = np.zeros(A_feature.shape)\n",
    "\n",
    "for i in np.arange(11):\n",
    "    path_matrix_citation += np.linalg.matrix_power(A_citation, i)\n",
    "    path_matrix_feature += np.linalg.matrix_power(A_feature, i)\n",
    "    \n",
    "path_matrix_citation"
   ]
  },
  {
   "cell_type": "code",
   "execution_count": 29,
   "metadata": {},
   "outputs": [
    {
     "data": {
      "text/plain": [
       "array([[2.16936866e+17, 1.04229182e+17, 2.40740763e+17, ...,\n",
       "        1.92610691e+17, 7.67896564e+16, 5.68012988e+16],\n",
       "       [1.04229182e+17, 5.00845992e+16, 1.15661842e+17, ...,\n",
       "        9.25442090e+16, 3.68999237e+16, 2.72969645e+16],\n",
       "       [2.40740763e+17, 1.15661842e+17, 2.67159290e+17, ...,\n",
       "        2.13743654e+17, 8.52121798e+16, 6.30301926e+16],\n",
       "       ...,\n",
       "       [1.92610691e+17, 9.25442090e+16, 2.13743654e+17, ...,\n",
       "        1.71013470e+17, 6.81811650e+16, 5.04344235e+16],\n",
       "       [7.67896564e+16, 3.68999237e+16, 8.52121798e+16, ...,\n",
       "        6.81811650e+16, 2.71861750e+16, 2.01113584e+16],\n",
       "       [5.68012988e+16, 2.72969645e+16, 6.30301926e+16, ...,\n",
       "        5.04344235e+16, 2.01113584e+16, 1.48783271e+16]])"
      ]
     },
     "execution_count": 29,
     "metadata": {},
     "output_type": "execute_result"
    }
   ],
   "source": [
    "path_matrix_feature"
   ]
  },
  {
   "cell_type": "markdown",
   "metadata": {},
   "source": [
    "Check the sparsity pattern for both of path matrices."
   ]
  },
  {
   "cell_type": "code",
   "execution_count": 30,
   "metadata": {},
   "outputs": [
    {
     "data": {
      "image/png": "[encoded data removed]",
      "text/plain": [
       "<Figure size 1152x648 with 2 Axes>"
      ]
     },
     "metadata": {
      "needs_background": "light"
     },
     "output_type": "display_data"
    }
   ],
   "source": [
    "fig, axes = plt.subplots(1, 2, figsize=(16, 9))\n",
    "axes[0].set_title('Citation Path matrix sparsity')\n",
    "axes[0].spy(path_matrix_citation);\n",
    "axes[1].set_title('Feature Path matrix sparsity')\n",
    "axes[1].spy(path_matrix_feature);"
   ]
  },
  {
   "cell_type": "markdown",
   "metadata": {},
   "source": [
    "Now calculate the path matrix of the pruned feature graph for $N=10$. Plot the corresponding sparsity pattern. Is there any difference?"
   ]
  },
  {
   "cell_type": "code",
   "execution_count": 31,
   "metadata": {},
   "outputs": [
    {
     "data": {
      "image/png": "[encoded data removed]",
      "text/plain": [
       "<Figure size 864x432 with 1 Axes>"
      ]
     },
     "metadata": {
      "needs_background": "light"
     },
     "output_type": "display_data"
    }
   ],
   "source": [
    "path_matrix_pruned = np.zeros(A_feature_pruned.shape)\n",
    "for i in range(11):\n",
    "    path_matrix_pruned += np.linalg.matrix_power(A_feature_pruned, i)\n",
    "\n",
    "plt.figure(figsize=(12, 6))\n",
    "plt.title('Feature Path matrix sparsity')\n",
    "plt.spy(path_matrix_pruned);"
   ]
  },
  {
   "cell_type": "markdown",
   "metadata": {},
   "source": [
    "**Your answer here: Yes, there are differences. The path matrix of the original feature graph has no zero in it, so there is no empty spot in the sparsity plot. But there are plenty of empty spots in the sparsity plot of the path matrix of the pruned feature graph for N = 10, which means the pruned feature graph has quite a few non-connected nodes.**"
   ]
  },
  {
   "cell_type": "markdown",
   "metadata": {},
   "source": [
    "Describe how you can use the above process of counting paths to determine whether a graph is connected or not. Is the original (unpruned) feature graph connected?"
   ]
  },
  {
   "cell_type": "markdown",
   "metadata": {},
   "source": [
    "**Your answer here: If there is no zero in the path matrix, then it is connected. For the original feature graph, there is no zero value in its corresponding path matrix, so the feature graph is indeed connected.** "
   ]
  },
  {
   "cell_type": "markdown",
   "metadata": {},
   "source": [
    "If the graph is connected, how can you guess its diameter using the path matrix?"
   ]
  },
  {
   "cell_type": "markdown",
   "metadata": {},
   "source": [
    "**Your answer here: We can check the value of N when we increase N and see if there are any zeros in the path matrix.**"
   ]
  },
  {
   "cell_type": "markdown",
   "metadata": {},
   "source": [
    "If any of your graphs is connected, calculate the diameter using that process."
   ]
  },
  {
   "cell_type": "code",
   "execution_count": 32,
   "metadata": {},
   "outputs": [
    {
     "name": "stdout",
     "output_type": "stream",
     "text": [
      "The diameter is: 2\n"
     ]
    }
   ],
   "source": [
    "path_matrix_feature = A_feature.copy()\n",
    "for i in range(11):\n",
    "    if np.count_nonzero(path_matrix_feature) == path_matrix_feature.shape[0] * path_matrix_feature.shape[1]:\n",
    "        diameter = i + 1\n",
    "        break\n",
    "    path_matrix_feature += np.matmul(path_matrix_feature, A_feature)\n",
    "print(f\"The diameter is: {diameter}\")"
   ]
  },
  {
   "cell_type": "markdown",
   "metadata": {},
   "source": [
    "Check if your guess was correct using [NetworkX](https://networkx.github.io/documentation/stable/reference/algorithms/generated/networkx.algorithms.distance_measures.diameter.html).\n",
    "Note: usage of NetworkX is only allowed in this part of Section 1."
   ]
  },
  {
   "cell_type": "code",
   "execution_count": 33,
   "metadata": {},
   "outputs": [
    {
     "name": "stdout",
     "output_type": "stream",
     "text": [
      "Diameter according to networkx: 2\n"
     ]
    }
   ],
   "source": [
    "import networkx as nx\n",
    "feature_graph = nx.from_numpy_matrix(A_feature)\n",
    "print(f\"Diameter according to networkx: {nx.diameter(feature_graph)}\")"
   ]
  },
  {
   "cell_type": "markdown",
   "metadata": {},
   "source": [
    "## Section 2: Network Models"
   ]
  },
  {
   "cell_type": "markdown",
   "metadata": {},
   "source": [
    "In this section, you will analyze the feature and citation graphs you constructed in the previous section in terms of the network model types.\n",
    "For this purpose, you can use the NetworkX libary imported below."
   ]
  },
  {
   "cell_type": "code",
   "execution_count": 34,
   "metadata": {},
   "outputs": [],
   "source": [
    "import networkx as nx"
   ]
  },
  {
   "cell_type": "markdown",
   "metadata": {},
   "source": [
    "Let us create NetworkX graph objects from the adjacency matrices computed in the previous section."
   ]
  },
  {
   "cell_type": "code",
   "execution_count": 35,
   "metadata": {},
   "outputs": [
    {
     "name": "stdout",
     "output_type": "stream",
     "text": [
      "Number of nodes: 180, Number of edges: 253\n",
      "Number of self-loops: 0, Number of connected components: 26\n"
     ]
    }
   ],
   "source": [
    "G_citation = nx.from_numpy_matrix(A_citation)\n",
    "print('Number of nodes: {}, Number of edges: {}'. format(G_citation.number_of_nodes(), G_citation.number_of_edges()))\n",
    "print('Number of self-loops: {}, Number of connected components: {}'. format(G_citation.number_of_selfloops(), nx.number_connected_components(G_citation)))"
   ]
  },
  {
   "cell_type": "markdown",
   "metadata": {},
   "source": [
    "In the rest of this assignment, we will consider the pruned feature graph as the feature network."
   ]
  },
  {
   "cell_type": "code",
   "execution_count": 36,
   "metadata": {},
   "outputs": [
    {
     "name": "stdout",
     "output_type": "stream",
     "text": [
      "Number of nodes: 180, Number of edges: 24\n",
      "Number of self-loops: 0, Number of connected components: 165\n"
     ]
    }
   ],
   "source": [
    "G_feature = nx.from_numpy_matrix(A_feature_pruned)\n",
    "print('Number of nodes: {}, Number of edges: {}'. format(G_feature.number_of_nodes(), G_feature.number_of_edges()))\n",
    "print('Number of self-loops: {}, Number of connected components: {}'. format(G_feature.number_of_selfloops(), nx.number_connected_components(G_feature)))"
   ]
  },
  {
   "cell_type": "markdown",
   "metadata": {},
   "source": [
    "### Question 4: Simulation with Erdős–Rényi and Barabási–Albert models"
   ]
  },
  {
   "cell_type": "markdown",
   "metadata": {},
   "source": [
    "Create an Erdős–Rényi and a Barabási–Albert graph using NetworkX to simulate the citation graph and the feature graph you have. When choosing parameters for the networks, take into account the number of vertices and edges of the original networks."
   ]
  },
  {
   "cell_type": "markdown",
   "metadata": {},
   "source": [
    "The number of nodes should exactly match the number of nodes in the original citation and feature graphs."
   ]
  },
  {
   "cell_type": "code",
   "execution_count": 37,
   "metadata": {},
   "outputs": [
    {
     "data": {
      "text/plain": [
       "180"
      ]
     },
     "execution_count": 37,
     "metadata": {},
     "output_type": "execute_result"
    }
   ],
   "source": [
    "assert len(G_citation.nodes()) == len(G_feature.nodes())\n",
    "n = len(G_citation.nodes())\n",
    "n"
   ]
  },
  {
   "cell_type": "markdown",
   "metadata": {},
   "source": [
    "The number of match shall fit the average of the number of edges in the citation and the feature graph."
   ]
  },
  {
   "cell_type": "code",
   "execution_count": 38,
   "metadata": {},
   "outputs": [
    {
     "data": {
      "text/plain": [
       "138.0"
      ]
     },
     "execution_count": 38,
     "metadata": {},
     "output_type": "execute_result"
    }
   ],
   "source": [
    "m = np.round((G_citation.size() + G_feature.size()) / 2)\n",
    "m"
   ]
  },
  {
   "cell_type": "markdown",
   "metadata": {},
   "source": [
    "How do you determine the probability parameter for the Erdős–Rényi graph?"
   ]
  },
  {
   "cell_type": "markdown",
   "metadata": {},
   "source": [
    "**Your answer here: In random networks, average degree of a node is equal to 2 times average link of a whole network divided by total number of nodes. Also, linking probability of a node to other is equal to average degree divided by (total number of nodes minus 1). Base on these formula, we can get the linking probability from the average link and total number of nodes.**"
   ]
  },
  {
   "cell_type": "code",
   "execution_count": 39,
   "metadata": {},
   "outputs": [],
   "source": [
    "p = (2*m) / (n*(n-1))\n",
    "G_er = nx.erdos_renyi_graph(n, p)"
   ]
  },
  {
   "cell_type": "markdown",
   "metadata": {},
   "source": [
    "Check the number of edges in the Erdős–Rényi graph."
   ]
  },
  {
   "cell_type": "code",
   "execution_count": 40,
   "metadata": {},
   "outputs": [
    {
     "name": "stdout",
     "output_type": "stream",
     "text": [
      "My Erdos-Rényi network that simulates the citation graph has 148 edges.\n"
     ]
    }
   ],
   "source": [
    "print('My Erdos-Rényi network that simulates the citation graph has {} edges.'.format(G_er.size()))"
   ]
  },
  {
   "cell_type": "markdown",
   "metadata": {},
   "source": [
    "How do you determine the preferential attachment parameter for Barabási–Albert graphs?"
   ]
  },
  {
   "cell_type": "markdown",
   "metadata": {},
   "source": [
    "**Your answer here: Since the average degree of Barabási-Albert graphs is equal to 2m, we decide m, the preferential attachment as average degree divided by 2.**"
   ]
  },
  {
   "cell_type": "code",
   "execution_count": 41,
   "metadata": {},
   "outputs": [],
   "source": [
    "q = int(np.round(2*m/n/2) )\n",
    "G_ba = nx.barabasi_albert_graph(n, q)"
   ]
  },
  {
   "cell_type": "markdown",
   "metadata": {},
   "source": [
    "Check the number of edges in the Barabási–Albert graph."
   ]
  },
  {
   "cell_type": "code",
   "execution_count": 42,
   "metadata": {},
   "outputs": [
    {
     "name": "stdout",
     "output_type": "stream",
     "text": [
      "My Barabási-Albert network that simulates the citation graph has 179 edges.\n"
     ]
    }
   ],
   "source": [
    "print('My Barabási-Albert network that simulates the citation graph has {} edges.'.format(G_ba.size()))"
   ]
  },
  {
   "cell_type": "markdown",
   "metadata": {},
   "source": [
    "### Question 5: Giant Component"
   ]
  },
  {
   "cell_type": "markdown",
   "metadata": {},
   "source": [
    "Check the size of the largest connected component in the citation and feature graphs."
   ]
  },
  {
   "cell_type": "code",
   "execution_count": 43,
   "metadata": {},
   "outputs": [
    {
     "name": "stdout",
     "output_type": "stream",
     "text": [
      "The giant component of the citation graph has 102 nodes and 172 edges.\n"
     ]
    }
   ],
   "source": [
    "giant_citation = max(nx.connected_component_subgraphs(G_citation), key=len)\n",
    "print('The giant component of the citation graph has {} nodes and {} edges.'.format(giant_citation.number_of_nodes(), giant_citation.size()))"
   ]
  },
  {
   "cell_type": "code",
   "execution_count": 44,
   "metadata": {},
   "outputs": [
    {
     "name": "stdout",
     "output_type": "stream",
     "text": [
      "The giant component of the feature graph has 11 nodes and 19 edges.\n"
     ]
    }
   ],
   "source": [
    "giant_feature = max(nx.connected_component_subgraphs(G_feature), key=len)\n",
    "print('The giant component of the feature graph has {} nodes and {} edges.'.format(giant_feature.number_of_nodes(), giant_feature.size()))"
   ]
  },
  {
   "cell_type": "markdown",
   "metadata": {},
   "source": [
    "Check the size of the giant components in the generated Erdős–Rényi graph."
   ]
  },
  {
   "cell_type": "code",
   "execution_count": 45,
   "metadata": {},
   "outputs": [
    {
     "name": "stdout",
     "output_type": "stream",
     "text": [
      "The giant component of the Erdos-Rényi network has 132 nodes and 138 edges.\n"
     ]
    }
   ],
   "source": [
    "giant_er = max(nx.connected_component_subgraphs(G_er), key=len)\n",
    "print('The giant component of the Erdos-Rényi network has {} nodes and {} edges.'.format(giant_er.number_of_nodes(), giant_er.size()))"
   ]
  },
  {
   "cell_type": "markdown",
   "metadata": {},
   "source": [
    "Let us match the number of nodes in the giant component of the feature graph by simulating a new Erdős–Rényi network.\n",
    "How do you choose the probability parameter this time? \n",
    "\n",
    "**Hint:** Recall the expected giant component size from the lectures."
   ]
  },
  {
   "cell_type": "markdown",
   "metadata": {},
   "source": [
    "**Your answer here: From the lecture slides, fraction of giant component S is $$S = \\frac{N_{G}}{N}$$\n",
    "And logarithm of non-giant component fraction is $$\\log{u} = - <k>(1-u)$$ So average degree $$<k>  = -\\frac{\\log{u}}{1-u}$$ Then probability parameter is $$p = \\frac{<k>}{n-1}$$**"
   ]
  },
  {
   "cell_type": "code",
   "execution_count": 46,
   "metadata": {},
   "outputs": [],
   "source": [
    "giant_component_fraction = giant_feature.number_of_nodes() / n\n",
    "non_giant_component_fraction = 1 - giant_component_fraction\n",
    "avg_degree = - (np.log(non_giant_component_fraction)) / giant_component_fraction\n",
    "p_new = avg_degree / (n-1)\n",
    "G_er_new = nx.erdos_renyi_graph(n, p_new)"
   ]
  },
  {
   "cell_type": "markdown",
   "metadata": {},
   "source": [
    "Check the size of the new Erdős–Rényi network and its giant component."
   ]
  },
  {
   "cell_type": "code",
   "execution_count": 47,
   "metadata": {},
   "outputs": [
    {
     "name": "stdout",
     "output_type": "stream",
     "text": [
      "My new Erdos Renyi network that simulates the citation graph has 90 edges.\n",
      "The giant component of the new Erdos-Rényi network has 36 nodes and 35 edges.\n"
     ]
    }
   ],
   "source": [
    "print('My new Erdos Renyi network that simulates the citation graph has {} edges.'.format(G_er_new.size()))\n",
    "giant_er_new = max(nx.connected_component_subgraphs(G_er_new), key=len)\n",
    "print('The giant component of the new Erdos-Rényi network has {} nodes and {} edges.'.format(giant_er_new.number_of_nodes(), giant_er_new.size()))"
   ]
  },
  {
   "cell_type": "markdown",
   "metadata": {},
   "source": [
    "### Question 6: Degree Distributions"
   ]
  },
  {
   "cell_type": "markdown",
   "metadata": {},
   "source": [
    "Recall the degree distribution of the citation and the feature graph."
   ]
  },
  {
   "cell_type": "code",
   "execution_count": 48,
   "metadata": {},
   "outputs": [
    {
     "data": {
      "image/png": "[encoded data removed]",
      "text/plain": [
       "<Figure size 1080x432 with 2 Axes>"
      ]
     },
     "metadata": {
      "needs_background": "light"
     },
     "output_type": "display_data"
    }
   ],
   "source": [
    "fig, axes = plt.subplots(1, 2, figsize=(15, 6))\n",
    "axes[0].set_title('Citation graph')\n",
    "citation_degrees = sorted([d for n, d in G_citation.degree()], reverse=True)\n",
    "axes[0].hist(citation_degrees, bins = 30);\n",
    "axes[1].set_title('Feature graph')\n",
    "feature_degrees = sorted([d for n, d in G_feature.degree()], reverse=True)\n",
    "axes[1].hist(feature_degrees, bins = 30);"
   ]
  },
  {
   "cell_type": "markdown",
   "metadata": {},
   "source": [
    "What does the degree distribution tell us about a network? Can you make a prediction on the network model type of the citation and the feature graph by looking at their degree distributions?"
   ]
  },
  {
   "cell_type": "markdown",
   "metadata": {},
   "source": [
    "**Your answer here: For a random network, its distribution is bionomial, or poisson if total number of nodes N is much greater than the average degree k; For a scale-free network, its distribution should follow power law, and the network may contain several hubs with higher degree. Therefore, if we predict citation graph, we think that it is more like a distribution of a random network, but feature graph is more like a scale-free network.**"
   ]
  },
  {
   "cell_type": "markdown",
   "metadata": {},
   "source": [
    "Now, plot the degree distribution historgrams for the simulated networks."
   ]
  },
  {
   "cell_type": "code",
   "execution_count": 49,
   "metadata": {},
   "outputs": [
    {
     "data": {
      "image/png": "[encoded data removed]",
      "text/plain": [
       "<Figure size 1440x432 with 3 Axes>"
      ]
     },
     "metadata": {
      "needs_background": "light"
     },
     "output_type": "display_data"
    }
   ],
   "source": [
    "fig, axes = plt.subplots(1, 3, figsize=(20, 6))\n",
    "axes[0].set_title('Erdos-Rényi network')\n",
    "er_degrees = sorted([d for n, d in G_er.degree()], reverse=True)\n",
    "axes[0].hist(er_degrees);\n",
    "axes[1].set_title('Barabási-Albert network')\n",
    "ba_degrees = sorted([d for n, d in G_ba.degree()], reverse=True)\n",
    "axes[1].hist(ba_degrees);\n",
    "axes[2].set_title('new Erdos-Rényi network')\n",
    "er_new_degrees = sorted([d for n, d in G_er_new.degree()], reverse=True)\n",
    "axes[2].hist(er_new_degrees);"
   ]
  },
  {
   "cell_type": "markdown",
   "metadata": {},
   "source": [
    "In terms of the degree distribution, is there a good match between the citation and feature graphs and the simulated networks?\n",
    "For the citation graph, choose one of the simulated networks above that match its degree distribution best. Indicate your preference below."
   ]
  },
  {
   "cell_type": "markdown",
   "metadata": {},
   "source": [
    "**Your answer here: Yes, we think that the distribution of feature graph would be much like Barabási-Albert network, heavily right skewed distribution. As stated in the previous question, we would say that the citation graph is more similar to a random network. Therefore, I would say that the citation graph matches with Erdos-Rényi network.** "
   ]
  },
  {
   "cell_type": "markdown",
   "metadata": {},
   "source": [
    "You can also simulate a network using the configuration model to match its degree disctribution exactly. Refer to [Configuration model](https://networkx.github.io/documentation/stable/reference/generated/networkx.generators.degree_seq.configuration_model.html#networkx.generators.degree_seq.configuration_model).\n",
    "\n",
    "Let us create another network to match the degree distribution of the feature graph. "
   ]
  },
  {
   "cell_type": "code",
   "execution_count": 50,
   "metadata": {},
   "outputs": [
    {
     "name": "stdout",
     "output_type": "stream",
     "text": [
      "Configuration model has 180 nodes and 24 edges.\n"
     ]
    }
   ],
   "source": [
    "G_config = nx.configuration_model(feature_degrees) \n",
    "print('Configuration model has {} nodes and {} edges.'.format(G_config.number_of_nodes(), G_config.size()))"
   ]
  },
  {
   "cell_type": "markdown",
   "metadata": {},
   "source": [
    "Does it mean that we create the same graph with the feature graph by the configuration model? If not, how do you understand that they are not the same?"
   ]
  },
  {
   "cell_type": "markdown",
   "metadata": {},
   "source": [
    "**Your answer here: No, they are not the same. We can check whether the adjacency matrix of both models are equal or not.** "
   ]
  },
  {
   "cell_type": "markdown",
   "metadata": {},
   "source": [
    "### Question 7: Clustering Coefficient"
   ]
  },
  {
   "cell_type": "markdown",
   "metadata": {},
   "source": [
    "Let us check the average clustering coefficient of the original citation and feature graphs. "
   ]
  },
  {
   "cell_type": "code",
   "execution_count": 51,
   "metadata": {},
   "outputs": [
    {
     "data": {
      "text/plain": [
       "0.26935863519196857"
      ]
     },
     "execution_count": 51,
     "metadata": {},
     "output_type": "execute_result"
    }
   ],
   "source": [
    "nx.average_clustering(G_citation)"
   ]
  },
  {
   "cell_type": "code",
   "execution_count": 52,
   "metadata": {},
   "outputs": [
    {
     "data": {
      "text/plain": [
       "0.0437037037037037"
      ]
     },
     "execution_count": 52,
     "metadata": {},
     "output_type": "execute_result"
    }
   ],
   "source": [
    "nx.average_clustering(G_feature)"
   ]
  },
  {
   "cell_type": "markdown",
   "metadata": {},
   "source": [
    "What does the clustering coefficient tell us about a network? Comment on the values you obtain for the citation and feature graph."
   ]
  },
  {
   "cell_type": "markdown",
   "metadata": {},
   "source": [
    "**Your answer here: A clustering coefficient is a measure of the degree to which nodes in a graph tend to cluster together. Regarding the citation graph, its clustering coefficient is small since it is random network alike. As for the feature graph, since it is more like scale-free network, the clustering coefficient decreases very fast as the number of nodes increases. As a result, its clustering coefficient is much smaller.**"
   ]
  },
  {
   "cell_type": "markdown",
   "metadata": {},
   "source": [
    "Now, let us check the average clustering coefficient for the simulated networks."
   ]
  },
  {
   "cell_type": "code",
   "execution_count": 53,
   "metadata": {},
   "outputs": [
    {
     "data": {
      "text/plain": [
       "0.012037037037037039"
      ]
     },
     "execution_count": 53,
     "metadata": {},
     "output_type": "execute_result"
    }
   ],
   "source": [
    "nx.average_clustering(G_er)"
   ]
  },
  {
   "cell_type": "code",
   "execution_count": 54,
   "metadata": {},
   "outputs": [
    {
     "data": {
      "text/plain": [
       "0.0"
      ]
     },
     "execution_count": 54,
     "metadata": {},
     "output_type": "execute_result"
    }
   ],
   "source": [
    "nx.average_clustering(G_ba)"
   ]
  },
  {
   "cell_type": "code",
   "execution_count": 55,
   "metadata": {},
   "outputs": [
    {
     "data": {
      "text/plain": [
       "0.0023148148148148147"
      ]
     },
     "execution_count": 55,
     "metadata": {},
     "output_type": "execute_result"
    }
   ],
   "source": [
    "nx.average_clustering(nx.Graph(G_config))"
   ]
  },
  {
   "cell_type": "markdown",
   "metadata": {},
   "source": [
    "Comment on the values you obtain for the simulated networks. Is there any good match to the citation or feature graph in terms of clustering coefficient?"
   ]
  },
  {
   "cell_type": "markdown",
   "metadata": {},
   "source": [
    "**Your answer here: No, the values are all too small compared to the values of citation graph and feature graph.**"
   ]
  },
  {
   "cell_type": "markdown",
   "metadata": {},
   "source": [
    "Check the other [network model generators](https://networkx.github.io/documentation/networkx-1.10/reference/generators.html) provided by NetworkX. Which one do you predict to have a better match to the citation graph or the feature graph in terms of degree distribution and clustering coefficient at the same time? Justify your answer."
   ]
  },
  {
   "cell_type": "markdown",
   "metadata": {},
   "source": [
    "**Your answer here: I found the powerlaw cluster network could be a beeter match in terms of degree distribution and clustering coefficient. Because according to its document, it is essentially a Barabási–Albert (BA) growth model which is already a good match in terms of degree distribution. Also, it can approximate average clustering. We can let it approximate the average of the average clustering coefficient of citation graph and feature graph.**"
   ]
  },
  {
   "cell_type": "markdown",
   "metadata": {},
   "source": [
    "If you find a better fit, create a graph object below for that network model. Print the number of edges and the average clustering coefficient. Plot the histogram of the degree distribution."
   ]
  },
  {
   "cell_type": "code",
   "execution_count": 56,
   "metadata": {},
   "outputs": [],
   "source": [
    "# Your code here.\n",
    "G_plc = nx.powerlaw_cluster_graph(n, int(np.round((2 * m / n) / 2)), (nx.average_clustering(G_citation) + nx.average_clustering(G_feature)) / 2)"
   ]
  },
  {
   "cell_type": "code",
   "execution_count": 57,
   "metadata": {},
   "outputs": [
    {
     "name": "stdout",
     "output_type": "stream",
     "text": [
      "My powerlaw cluster network that simulates the citation graph has 179 edges.\n",
      "The average clustering coefficient of my powerlaw cluster network is 0.0.\n"
     ]
    }
   ],
   "source": [
    "print('My powerlaw cluster network that simulates the citation graph has {} edges.'.format(G_plc.size()))\n",
    "print('The average clustering coefficient of my powerlaw cluster network is {}.'.format(nx.average_clustering(G_plc)))"
   ]
  },
  {
   "cell_type": "code",
   "execution_count": 58,
   "metadata": {},
   "outputs": [
    {
     "data": {
      "text/plain": [
       "Text(0, 0.5, 'Frequency')"
      ]
     },
     "execution_count": 58,
     "metadata": {},
     "output_type": "execute_result"
    },
    {
     "data": {
      "image/png": "[encoded data removed]",
      "text/plain": [
       "<Figure size 576x432 with 1 Axes>"
      ]
     },
     "metadata": {
      "needs_background": "light"
     },
     "output_type": "display_data"
    }
   ],
   "source": [
    "plc_degrees = sorted([d for n, d in G_plc.degree])\n",
    "deg, cnt = np.unique(plc_degrees, return_counts=True)\n",
    "plt.figure(figsize=(8, 6))\n",
    "plt.bar(deg, cnt / sum(cnt));\n",
    "plt.title('Degree Distribution of Powerlaw Cluster Network')\n",
    "plt.xlabel('Degree')\n",
    "plt.ylabel('Frequency')"
   ]
  },
  {
   "cell_type": "markdown",
   "metadata": {},
   "source": [
    "Comment on the similarities of your match."
   ]
  },
  {
   "cell_type": "markdown",
   "metadata": {},
   "source": [
    "**Your answer here: The result meets my expectation. The number of edges, the average clustering coefficient and the degree distribution are a nice match to the citation graph and feature graph.**"
   ]
  }
 ],
 "metadata": {
  "kernelspec": {
   "display_name": "Python 3",
   "language": "python",
   "name": "python3"
  },
  "language_info": {
   "codemirror_mode": {
    "name": "ipython",
    "version": 3
   },
   "file_extension": ".py",
   "mimetype": "text/x-python",
   "name": "python",
   "nbconvert_exporter": "python",
   "pygments_lexer": "ipython3",
   "version": "3.7.4"
  }
 },
 "nbformat": 4,
 "nbformat_minor": 4
}
